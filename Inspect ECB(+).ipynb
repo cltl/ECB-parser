{
 "cells": [
  {
   "cell_type": "code",
   "execution_count": 1,
   "metadata": {
    "collapsed": true
   },
   "outputs": [],
   "source": [
    "import pickle"
   ]
  },
  {
   "cell_type": "code",
   "execution_count": 2,
   "metadata": {
    "collapsed": true
   },
   "outputs": [],
   "source": [
    "import ecb_parser_classes\n",
    "import inspection"
   ]
  },
  {
   "cell_type": "code",
   "execution_count": 3,
   "metadata": {
    "collapsed": true
   },
   "outputs": [],
   "source": [
    "import pandas\n",
    "from IPython.core.display import display, HTML"
   ]
  },
  {
   "cell_type": "code",
   "execution_count": 4,
   "metadata": {
    "collapsed": false
   },
   "outputs": [],
   "source": [
    "ev_instances, ev_triggers = pickle.load(open('cache/ecbANDecbplus.bin', 'rb'))"
   ]
  },
  {
   "cell_type": "markdown",
   "metadata": {},
   "source": [
    "# Ideas\n",
    "* we can manually select event meanings for a lemma and find them in existing WSD corpora, which would increase the amount of event instances probably."
   ]
  },
  {
   "cell_type": "markdown",
   "metadata": {},
   "source": [
    "# Install\n",
    "* **tabulate** (pip install tabulate)\n",
    "* if you want to reload the ECB(+) data using the notebook 'Load ECB(+).ipynb', you also need to install **spacy** and run *python -m spacy.en.download* from the command line"
   ]
  },
  {
   "cell_type": "markdown",
   "metadata": {},
   "source": [
    "# Inspect event triggers"
   ]
  },
  {
   "cell_type": "code",
   "execution_count": 5,
   "metadata": {
    "collapsed": false
   },
   "outputs": [
    {
     "data": {
      "text/html": [
       "<table>\n",
       "<tr><th style=\"text-align: right;\">  </th><th>event_trigger  </th><th>num_event_instances  </th><th>event_instance_ids                                                                                                                                                                                                                                                                                                                                                                              </th></tr>\n",
       "<tr><td style=\"text-align: right;\"> 0</td><td>earthquake     </td><td>10                   </td><td>{'ACT17741293339495179', 'ACT18004316983375265', 'ACT17644429303158159', 'ACT17643276204095552', 'ACT17741200229701266', 'ACT17740950239373139', 'ACT17821472137518203', 'ACT17733038959406609', 'ACT17644550339744276', 'ACT17821815048905207'}                                                                                                                                                </td></tr>\n",
       "<tr><td style=\"text-align: right;\"> 1</td><td>fire           </td><td>16                   </td><td>{'ACT17634335402702692', 'ACT17623175679638697', 'ACT16702238123414525', 'ACT27400243519478655', 'ACT16463289776296798', 'ACT17477395877825371', 'ACT17478306085573007', 'ACT16958671259762511', 'ACT16701657667816137', 'ACT17585255017659433', 'ACT17473889933267520', 'ACT17479094205244348', 'ACT17474554307413590', 'ACT17819810020957731', 'ACT16708643554061400', 'ACT17731663088586680'}</td></tr>\n",
       "<tr><td style=\"text-align: right;\"> 2</td><td>flooding       </td><td>NA                   </td><td>NA                                                                                                                                                                                                                                                                                                                                                                                              </td></tr>\n",
       "<tr><td style=\"text-align: right;\"> 3</td><td>storm          </td><td>4                    </td><td>{'ACT16958299902537796', 'ACT16958781329449679', 'ACT17403630531063654', 'ACT16958629132224286'}                                                                                                                                                                                                                                                                                                </td></tr>\n",
       "</table>"
      ],
      "text/plain": [
       "<IPython.core.display.HTML object>"
      ]
     },
     "metadata": {},
     "output_type": "display_data"
    }
   ],
   "source": [
    "headers = ['event_trigger',\n",
    "           'num_event_instances', \n",
    "           'event_instance_ids']\n",
    "keys = ['earthquake', 'fire', 'flooding', 'storm'] # change this to inspect others\n",
    "main_dict = ev_triggers\n",
    "\n",
    "table = inspection.show_me(main_dict, keys, headers)\n",
    "display(HTML(table))"
   ]
  },
  {
   "cell_type": "markdown",
   "metadata": {},
   "source": [
    "# Inspect event instances"
   ]
  },
  {
   "cell_type": "code",
   "execution_count": 6,
   "metadata": {
    "collapsed": false
   },
   "outputs": [
    {
     "data": {
      "text/html": [
       "<table>\n",
       "<tr><th style=\"text-align: right;\">  </th><th style=\"text-align: right;\">  num_event_mentions</th><th style=\"text-align: right;\">  variance</th><th>distr_event_mentions                                                                                                                                                                                                                                                                                                                 </th><th>possible_wn_synsets                                                                                                                                                                                     </th><th>instance_id         </th><th>tag_descriptor              </th><th>xml_tag          </th></tr>\n",
       "<tr><td style=\"text-align: right;\"> 0</td><td style=\"text-align: right;\">                   9</td><td style=\"text-align: right;\">         5</td><td>Counter({('spray', 'v'): 3, ('gunfire', 'n'): 2, ('fire', 'v'): 2, ('fire at', 'v'): 1, ('let off', 'v'): 1})                                                                                                                                                                                                                        </td><td>{Synset('gunfire.n.01')}                                                                                                                                                                                </td><td>ACT17623175679638697</td><td>t33_spraying_bullets        </td><td>ACTION_OCCURRENCE</td></tr>\n",
       "<tr><td style=\"text-align: right;\"> 1</td><td style=\"text-align: right;\">                  14</td><td style=\"text-align: right;\">         3</td><td>Counter({('fire', 'v'): 12, ('lose', 'v'): 1, ('sack', 'v'): 1})                                                                                                                                                                                                                                                                     </td><td>{Synset('displace.v.03')}                                                                                                                                                                               </td><td>ACT17634335402702692</td><td>t18_fired                   </td><td>ACTION_OCCURRENCE</td></tr>\n",
       "<tr><td style=\"text-align: right;\"> 2</td><td style=\"text-align: right;\">                   1</td><td style=\"text-align: right;\">         1</td><td>Counter({('fire', 'v'): 1})                                                                                                                                                                                                                                                                                                          </td><td>{Synset('displace.v.03'), Synset('fire.v.06'), Synset('fire.v.03'), Synset('fire.v.02'), Synset('fire.v.05'), Synset('fuel.v.02'), Synset('burn.v.01'), Synset('open_fire.v.01'), Synset('arouse.v.01')}</td><td>ACT16702238123414525</td><td>t5_cheeks_fired_by_blazers  </td><td>ACTION_OCCURRENCE</td></tr>\n",
       "<tr><td style=\"text-align: right;\"> 3</td><td style=\"text-align: right;\">                  11</td><td style=\"text-align: right;\">         5</td><td>Counter({('fire', 'v'): 7, ('shooting', 'n'): 1, ('pull the trigger', 'v'): 1, ('pull', 'v'): 1, ('shoot', 'v'): 1})                                                                                                                                                                                                                 </td><td>{Synset('displace.v.03'), Synset('fire.v.06'), Synset('fire.v.03'), Synset('fire.v.02'), Synset('fire.v.05'), Synset('fuel.v.02'), Synset('burn.v.01'), Synset('open_fire.v.01'), Synset('arouse.v.01')}</td><td>ACT27400243519478655</td><td>t33b_fired                  </td><td>ACTION_OCCURRENCE</td></tr>\n",
       "<tr><td style=\"text-align: right;\"> 4</td><td style=\"text-align: right;\">                   2</td><td style=\"text-align: right;\">         1</td><td>Counter({('fire', 'v'): 2})                                                                                                                                                                                                                                                                                                          </td><td>{Synset('displace.v.03'), Synset('fire.v.06'), Synset('fire.v.03'), Synset('fire.v.02'), Synset('fire.v.05'), Synset('fuel.v.02'), Synset('burn.v.01'), Synset('open_fire.v.01'), Synset('arouse.v.01')}</td><td>ACT16463289776296798</td><td>t3_fired_gun                </td><td>ACTION_OCCURRENCE</td></tr>\n",
       "<tr><td style=\"text-align: right;\"> 5</td><td style=\"text-align: right;\">                  33</td><td style=\"text-align: right;\">         4</td><td>Counter({('fire', 'n'): 26, ('blaze', 'n'): 4, ('fire', 'reste'): 2, ('incident', 'n'): 1})                                                                                                                                                                                                                                          </td><td>{Synset('fire.n.09'), Synset('fire.n.08'), Synset('fire.n.02'), Synset('fire.n.04'), Synset('ardor.n.03'), Synset('fire.n.01'), Synset('fire.n.05'), Synset('fire.n.07'), Synset('fire.n.03')}          </td><td>ACT17477395877825371</td><td>t14_fire                    </td><td>ACTION_OCCURRENCE</td></tr>\n",
       "<tr><td style=\"text-align: right;\"> 6</td><td style=\"text-align: right;\">                  10</td><td style=\"text-align: right;\">         3</td><td>Counter({('fire', 'n'): 8, ('fir', 'n'): 1, ('blaze', 'n'): 1})                                                                                                                                                                                                                                                                      </td><td>{Synset('fire.n.08'), Synset('fire.n.09'), Synset('fire.n.02'), Synset('fire.n.04'), Synset('ardor.n.03'), Synset('fire.n.01'), Synset('fire.n.05'), Synset('fire.n.07'), Synset('fire.n.03')}          </td><td>ACT17478306085573007</td><td>t14b_fire                   </td><td>ACTION_OCCURRENCE</td></tr>\n",
       "<tr><td style=\"text-align: right;\"> 7</td><td style=\"text-align: right;\">                  11</td><td style=\"text-align: right;\">         4</td><td>Counter({('fire', 'n'): 5, ('catch fire', 'v'): 4, ('blaze', 'n'): 1, ('inferno', 'n'): 1})                                                                                                                                                                                                                                          </td><td>{Synset('fire.n.09'), Synset('fire.n.08'), Synset('fire.n.02'), Synset('fire.n.04'), Synset('ardor.n.03'), Synset('fire.n.01'), Synset('fire.n.05'), Synset('fire.n.07'), Synset('fire.n.03')}          </td><td>ACT16958671259762511</td><td>t8_fire_bank                </td><td>ACTION_OCCURRENCE</td></tr>\n",
       "<tr><td style=\"text-align: right;\"> 8</td><td style=\"text-align: right;\">                  18</td><td style=\"text-align: right;\">         9</td><td>Counter({('fire', 'v'): 8, ('relieve', 'v'): 2, ('terminate', 'v'): 2, ('can', 'v'): 1, ('fired', 'reste'): 1, ('fire', 'reste'): 1, ('go', 'v'): 1, ('push out', 'v'): 1, ('show door', 'v'): 1})                                                                                                                                   </td><td>{Synset('displace.v.03')}                                                                                                                                                                               </td><td>ACT16701657667816137</td><td>t5_obrien_relieved_of_duties</td><td>ACTION_OCCURRENCE</td></tr>\n",
       "<tr><td style=\"text-align: right;\"> 9</td><td style=\"text-align: right;\">                  20</td><td style=\"text-align: right;\">        14</td><td>Counter({('shooting', 'n'): 5, ('shooting', 'reste'): 2, ('crossfire', 'n'): 2, ('gunplay', 'n'): 1, ('indiscriminately', 'reste'): 1, ('shoot', 'v'): 1, ('fire', 'v'): 1, ('murder', 'n'): 1, ('gunfire', 'n'): 1, ('fatal shoot', 'reste'): 1, ('attack', 'n'): 1, ('which', 'reste'): 1, ('kill', 'v'): 1, ('shootout', 'n'): 1})</td><td>{Synset('shooting.n.01'), Synset('shooting.n.02')}                                                                                                                                                      </td><td>ACT17585255017659433</td><td>t33_shooting                </td><td>ACTION_OCCURRENCE</td></tr>\n",
       "<tr><td style=\"text-align: right;\">10</td><td style=\"text-align: right;\">                  25</td><td style=\"text-align: right;\">         4</td><td>Counter({('fire', 'n'): 22, ('blaze', 'n'): 1, ('fire', 'reste'): 1, ('scandal', 'n'): 1})                                                                                                                                                                                                                                           </td><td>{Synset('fire.n.09'), Synset('fire.n.08'), Synset('fire.n.02'), Synset('fire.n.04'), Synset('ardor.n.03'), Synset('fire.n.01'), Synset('fire.n.05'), Synset('fire.n.07'), Synset('fire.n.03')}          </td><td>ACT17473889933267520</td><td>t13_fire                    </td><td>ACTION_OCCURRENCE</td></tr>\n",
       "<tr><td style=\"text-align: right;\">11</td><td style=\"text-align: right;\">                  23</td><td style=\"text-align: right;\">         5</td><td>Counter({('shoot', 'v'): 14, ('shooting', 'n'): 5, ('gun down', 'v'): 2, ('shot', 'reste'): 1, ('fire', 'v'): 1})                                                                                                                                                                                                                    </td><td>{Synset('shooting.n.01'), Synset('shooting.n.02')}                                                                                                                                                      </td><td>ACT17479094205244348</td><td>t15_shot                    </td><td>ACTION_OCCURRENCE</td></tr>\n",
       "<tr><td style=\"text-align: right;\">12</td><td style=\"text-align: right;\">                  22</td><td style=\"text-align: right;\">         6</td><td>Counter({('fire', 'n'): 17, ('fire', 'reste'): 1, ('catch fire', 'v'): 1, ('burn', 'v'): 1, ('burning', 'n'): 1, ('it', 'reste'): 1})                                                                                                                                                                                                </td><td>{Synset('fire.n.08'), Synset('fire.n.09'), Synset('fire.n.02'), Synset('fire.n.04'), Synset('ardor.n.03'), Synset('fire.n.01'), Synset('fire.n.05'), Synset('fire.n.07'), Synset('fire.n.03')}          </td><td>ACT17474554307413590</td><td>t13_church_fire             </td><td>ACTION_OCCURRENCE</td></tr>\n",
       "<tr><td style=\"text-align: right;\">13</td><td style=\"text-align: right;\">                  10</td><td style=\"text-align: right;\">         4</td><td>Counter({('shooting', 'n'): 6, ('shoot', 'v'): 2, ('take aim', 'v'): 1, ('fire', 'v'): 1})                                                                                                                                                                                                                                           </td><td>{Synset('shooting.n.01'), Synset('shooting.n.02')}                                                                                                                                                      </td><td>ACT17819810020957731</td><td>t19b_shooting               </td><td>ACTION_OCCURRENCE</td></tr>\n",
       "<tr><td style=\"text-align: right;\">14</td><td style=\"text-align: right;\">                  14</td><td style=\"text-align: right;\">         6</td><td>Counter({('fire', 'v'): 9, ('dismissal', 'n'): 1, ('no longer employ', 'reste'): 1, ('out', 'reste'): 1, ('relieve', 'v'): 1, ('part way', 'v'): 1})                                                                                                                                                                                 </td><td>{Synset('displace.v.03'), Synset('fire.v.03'), Synset('fire.v.06'), Synset('fire.v.02'), Synset('fire.v.05'), Synset('fuel.v.02'), Synset('burn.v.01'), Synset('open_fire.v.01'), Synset('arouse.v.01')}</td><td>ACT16708643554061400</td><td>t5b_cheeks_fired            </td><td>ACTION_OCCURRENCE</td></tr>\n",
       "<tr><td style=\"text-align: right;\">15</td><td style=\"text-align: right;\">                   4</td><td style=\"text-align: right;\">         2</td><td>Counter({('let go', 'v'): 2, ('fire', 'v'): 2})                                                                                                                                                                                                                                                                                      </td><td>{Synset('displace.v.03'), Synset('fire.v.06'), Synset('fire.v.03'), Synset('fire.v.02'), Synset('fire.v.05'), Synset('fuel.v.02'), Synset('burn.v.01'), Synset('open_fire.v.01'), Synset('arouse.v.01')}</td><td>ACT17731663088586680</td><td>t18b_fired                  </td><td>ACTION_OCCURRENCE</td></tr>\n",
       "</table>"
      ],
      "text/plain": [
       "<IPython.core.display.HTML object>"
      ]
     },
     "metadata": {},
     "output_type": "display_data"
    }
   ],
   "source": [
    "headers = ['num_event_mentions', 'variance', \n",
    "           'distr_event_mentions', 'possible_wn_synsets', \n",
    "           'instance_id', 'tag_descriptor', 'xml_tag']\n",
    "# change keys to inspect other event instances\n",
    "keys = {'ACT16463289776296798', 'ACT16958671259762511', 'ACT17585255017659433', 'ACT17477395877825371', 'ACT16701657667816137', 'ACT27400243519478655', 'ACT17634335402702692', 'ACT17479094205244348', 'ACT16702238123414525', 'ACT17731663088586680', 'ACT17474554307413590', 'ACT16708643554061400', 'ACT17623175679638697', 'ACT17819810020957731', 'ACT17478306085573007', 'ACT17473889933267520'}\n",
    "main_dict = ev_instances\n",
    "\n",
    "table = inspection.show_me(main_dict, keys, headers)\n",
    "display(HTML(table))"
   ]
  },
  {
   "cell_type": "markdown",
   "metadata": {},
   "source": [
    "# Inspect event mentions of one event instance"
   ]
  },
  {
   "cell_type": "code",
   "execution_count": 7,
   "metadata": {
    "collapsed": false,
    "scrolled": true
   },
   "outputs": [
    {
     "data": {
      "text/html": [
       "<table>\n",
       "<tr><th style=\"text-align: right;\">  </th><th>event_trigger     </th><th>doc_name    </th><th>doc_id              </th><th style=\"text-align: right;\">  m_id</th><th>sentence                                                                                                                                                                                                                                                                  </th></tr>\n",
       "<tr><td style=\"text-align: right;\"> 0</td><td>('take over', 'v')</td><td>12_8ecb.xml </td><td>DOC15654141697861725</td><td style=\"text-align: right;\">    21</td><td>The Indian navy captured 23 piracy suspects who tried to take over a merchant vessel in the Gulf of Aden , between the Horn of Africa and the Arabian Peninsula , Indian officials said .                                                                                 </td></tr>\n",
       "<tr><td style=\"text-align: right;\"> 1</td><td>('attempt', 'n')  </td><td>12_5ecb.xml </td><td>DOC15654142035377642</td><td style=\"text-align: right;\">    29</td><td>Striking yet another blow at the very heart of piracy in the Gulf of Aden , Indian warship INS Mysore and its marine commandos thwarted a hijack attempt on an Ethiopian merchant vessel on Saturday and captured 23 pirates and a large arms cache in the operation .    </td></tr>\n",
       "<tr><td style=\"text-align: right;\"> 2</td><td>('attack', 'v')   </td><td>12_1ecb.xml </td><td>DOC15654141066688604</td><td style=\"text-align: right;\">    17</td><td>The Indian Navy on Saturday prevented pirates from attacking a merchant vessel flying an Ethiopian flag in the Gulf of Aden and took 23 into custody .                                                                                                                    </td></tr>\n",
       "<tr><td style=\"text-align: right;\"> 3</td><td>('storm', 'v')    </td><td>12_9ecb.xml </td><td>DOC15654141832926177</td><td style=\"text-align: right;\">    16</td><td>The Indian navy says it has arrested 23 Somali and Yemeni pirates who tried to storm a ship in the Gulf of Aden .                                                                                                                                                         </td></tr>\n",
       "<tr><td style=\"text-align: right;\"> 4</td><td>('attempt', 'n')  </td><td>12_6ecb.xml </td><td>DOC15654141294124191</td><td style=\"text-align: right;\">    14</td><td>The Indian Navy on Saturday foiled a hijack attempt in the notorious Gulf of Aden and arrested 23 heavily armed Somalian and Yemeni pirates .                                                                                                                             </td></tr>\n",
       "<tr><td style=\"text-align: right;\"> 5</td><td>('attack', 'n')   </td><td>12_12ecb.xml</td><td>DOC15654142557373394</td><td style=\"text-align: right;\">    21</td><td>In another successful anti-piracy operation , Navy warship on Saturday repulsed an attack on a merchant vessel in the Gulf of Aden and nabbed 23 Somali and Yemeni sea brigands , in a show of resolve to weed out the menace that affected maritime trade in the region .</td></tr>\n",
       "<tr><td style=\"text-align: right;\"> 6</td><td>('hijack', 'v')   </td><td>12_19ecb.xml</td><td>DOC15654141218392383</td><td style=\"text-align: right;\">    36</td><td>An Indian warship , INS Mysore deployed in the Gulf of Aden attacked two boats of pirates after receiving signals from a ship that the pirates were trying to hijack .                                                                                                    </td></tr>\n",
       "<tr><td style=\"text-align: right;\"> 7</td><td>('attack', 'v')   </td><td>12_7ecb.xml </td><td>DOC15654141529494733</td><td style=\"text-align: right;\">    15</td><td>The Indian navy said it has captured 23 Somali and Yemeni pirates who attacked a merchant vessel in the Gulf of Aden on Saturday .                                                                                                                                        </td></tr>\n",
       "<tr><td style=\"text-align: right;\"> 8</td><td>('attack', 'n')   </td><td>12_2ecb.xml </td><td>DOC15654141142319863</td><td style=\"text-align: right;\">    19</td><td>Indian naval forces came to the rescue of a merchant vessel under attack by pirates in the Gulf of Aden on Saturday , capturing 23 of the raiders , India said .                                                                                                          </td></tr>\n",
       "<tr><td style=\"text-align: right;\"> 9</td><td>('attack', 'n')   </td><td>12_3ecb.xml </td><td>DOC15654141386447412</td><td style=\"text-align: right;\">    19</td><td>Striking another blow against the pirates infesting the waters off the Horn of Africa , an Indian Navy warship not only repulsed an attack on a merchant vessel in the Gulf of Aden , but nabbed 23 Somali and Yemeni sea brigands .                                      </td></tr>\n",
       "<tr><td style=\"text-align: right;\">10</td><td>('hijack', 'v')   </td><td>12_13ecb.xml</td><td>DOC15654141976338295</td><td style=\"text-align: right;\">    17</td><td>The Indian navy captured 23 pirates in the Gulf of Aden after rescuing a merchant vessel that was being hijacked on Saturday , the Defence Ministry said .                                                                                                                </td></tr>\n",
       "<tr><td style=\"text-align: right;\">11</td><td>('attempt', 'n')  </td><td>12_17ecb.xml</td><td>DOC15654142354935421</td><td style=\"text-align: right;\">    17</td><td>For the fourth time in two months , the Indian Navy on Saturday took the bandits head on foiling a piracy attempt and putting 23 pirates out of business .                                                                                                                </td></tr>\n",
       "</table>"
      ],
      "text/plain": [
       "<IPython.core.display.HTML object>"
      ]
     },
     "metadata": {},
     "output_type": "display_data"
    }
   ],
   "source": [
    "headers = ['event_trigger', \n",
    "           'doc_name', 'doc_id',\n",
    "           'm_id', 'sentence']\n",
    "# change keys to inspect others\n",
    "keys = ['ACT17403630531063654'] # list has to be of length one\n",
    "main_dict = ev_instances\n",
    "table = inspection.show_me(main_dict, keys, headers, event_mention=True)\n",
    "display(HTML(table))"
   ]
  }
 ],
 "metadata": {
  "anaconda-cloud": {},
  "kernelspec": {
   "display_name": "Python [conda root]",
   "language": "python",
   "name": "conda-root-py"
  },
  "language_info": {
   "codemirror_mode": {
    "name": "ipython",
    "version": 3
   },
   "file_extension": ".py",
   "mimetype": "text/x-python",
   "name": "python",
   "nbconvert_exporter": "python",
   "pygments_lexer": "ipython3",
   "version": "3.5.2"
  }
 },
 "nbformat": 4,
 "nbformat_minor": 1
}

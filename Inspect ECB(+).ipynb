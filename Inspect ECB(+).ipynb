{
 "cells": [
  {
   "cell_type": "code",
   "execution_count": 1,
   "metadata": {
    "collapsed": true
   },
   "outputs": [],
   "source": [
    "import pickle"
   ]
  },
  {
   "cell_type": "code",
   "execution_count": 2,
   "metadata": {
    "collapsed": true
   },
   "outputs": [],
   "source": [
    "import ecb_parser_classes\n",
    "import inspection"
   ]
  },
  {
   "cell_type": "code",
   "execution_count": 3,
   "metadata": {
    "collapsed": true
   },
   "outputs": [],
   "source": [
    "import pandas\n",
    "from IPython.core.display import display, HTML"
   ]
  },
  {
   "cell_type": "code",
   "execution_count": 4,
   "metadata": {
    "collapsed": false
   },
   "outputs": [],
   "source": [
    "ev_instances, ev_triggers = pickle.load(open('cache/ecbANDecbplus.bin', 'rb'))"
   ]
  },
  {
   "cell_type": "markdown",
   "metadata": {},
   "source": [
    "# Ideas\n",
    "* we can manually select event meanings for a lemma and find them in existing WSD corpora, which would increase the amount of event instances probably."
   ]
  },
  {
   "cell_type": "markdown",
   "metadata": {},
   "source": [
    "# Install\n",
    "* **tabulate** (pip install tabulate)\n",
    "* if you want to reload the ECB(+) data using the notebook 'Load ECB(+).ipynb', you also need to install **spacy** and run *python -m spacy.en.download* from the command line"
   ]
  },
  {
   "cell_type": "markdown",
   "metadata": {},
   "source": [
    "# Inspect event triggers"
   ]
  },
  {
   "cell_type": "code",
   "execution_count": 20,
   "metadata": {
    "collapsed": false,
    "scrolled": false
   },
   "outputs": [
    {
     "data": {
      "text/html": [
       "<table>\n",
       "<tr><th style=\"text-align: right;\">  </th><th>event_trigger  </th><th>num_event_instances  </th><th>event_instance_ids                                                                                                                                                                                                                                                                                                                                                                                                                                                                                                                                                                                                                                                                                                                                                      </th></tr>\n",
       "<tr><td style=\"text-align: right;\"> 0</td><td>kill           </td><td>31                   </td><td>{'ACT17479136632367144', 'ACT17819728461396359', 'ACT18223428901970912', 'ACT18239862350395745', 'ACT17206723524309312', 'ACT18271402131749350', 'ACT17586104998270489', 'ACT17734003472118220', 'ACT17645460572486146', 'ACT18223179370767574', 'ACT18234615357625221', 'ACT27405482739518533', 'ACT18235797518957764', 'ACT17239767913146830', 'ACT17585266691851703', 'ACT18241866471384329', 'ACT16958316047989933', 'ACT17580680756222856', 'ACT16364016827612111', 'ACT18006431002286049', 'ACT17731356065373434', 'ACT18244338338545308', 'ACT17821802167919676', 'ACT17765469814751163', 'ACT17728573458939282', 'ACT17634346596006097', 'ACT18241002218927644', 'ACT17585255017659433', 'ACT18223733653876036', 'ACT18223709323918663', 'ACT17731468512044233'}</td></tr>\n",
       "<tr><td style=\"text-align: right;\"> 1</td><td>robbery        </td><td>3                    </td><td>{'ACT18316733646145911', 'ACT18316597331822467', 'ACT18319049821521663'}                                                                                                                                                                                                                                                                                                                                                                                                                                                                                                                                                                                                                                                                                                </td></tr>\n",
       "<tr><td style=\"text-align: right;\"> 2</td><td>vandalism      </td><td>NA                   </td><td>NA                                                                                                                                                                                                                                                                                                                                                                                                                                                                                                                                                                                                                                                                                                                                                                      </td></tr>\n",
       "</table>"
      ],
      "text/plain": [
       "<IPython.core.display.HTML object>"
      ]
     },
     "metadata": {},
     "output_type": "display_data"
    }
   ],
   "source": [
    "headers = ['event_trigger',\n",
    "           'num_event_instances', \n",
    "           'event_instance_ids']\n",
    "keys = ['kill', 'robbery', 'vandalism'] # Topic CRIME, SUM=34, AVG=11.(3)\n",
    "#keys = ['hire', 'fire'] # Topic EMPLOYMENT, SUM=18, AVG=9.0\n",
    "#keys = ['earthquake', 'fire', 'storm', 'flood'] # Topic DISASTERS, SUM=30, AVG=7.5\n",
    "#keys = ['profit', 'sales', 'takeover', 'merge', 'release'] # Topic BUSINESS, SUM=8, AVG=1.6\n",
    "main_dict = ev_triggers\n",
    "\n",
    "table = inspection.show_me(main_dict, keys, headers)\n",
    "display(HTML(table))"
   ]
  },
  {
   "cell_type": "markdown",
   "metadata": {},
   "source": [
    "# Inspect event instances"
   ]
  },
  {
   "cell_type": "code",
   "execution_count": 22,
   "metadata": {
    "collapsed": false
   },
   "outputs": [
    {
     "data": {
      "text/html": [
       "<table>\n",
       "<tr><th style=\"text-align: right;\">  </th><th style=\"text-align: right;\">  num_event_mentions</th><th style=\"text-align: right;\">  variance</th><th>distr_event_mentions                                                                                                                                                                                                                                                                                                                 </th><th>possible_wn_synsets                                                                                                                                                                                                                                                                                                                 </th><th>instance_id         </th><th>tag_descriptor        </th><th>xml_tag          </th></tr>\n",
       "<tr><td style=\"text-align: right;\"> 0</td><td style=\"text-align: right;\">                  32</td><td style=\"text-align: right;\">        10</td><td>Counter({('murder', 'n'): 13, ('kill', 'v'): 7, ('murder', 'v'): 4, ('death', 'n'): 2, ('assassination', 'n'): 1, ('slaying', 'n'): 1, ('die', 'v'): 1, ('\"this', 'reste'): 1, ('kills', 'reste'): 1, ('murdering', 'reste'): 1})                                                                                                    </td><td>{Synset('murder.n.01')}                                                                                                                                                                                                                                                                                                             </td><td>ACT17479136632367144</td><td>t15_murder            </td><td>ACTION_OCCURRENCE</td></tr>\n",
       "<tr><td style=\"text-align: right;\"> 1</td><td style=\"text-align: right;\">                   9</td><td style=\"text-align: right;\">         3</td><td>Counter({('kill', 'v'): 4, ('killing', 'n'): 4, ('die', 'v'): 1})                                                                                                                                                                                                                                                                    </td><td>{Synset('killing.n.03'), Synset('killing.n.02'), Synset('killing.n.01')}                                                                                                                                                                                                                                                            </td><td>ACT17819728461396359</td><td>t19b_killing          </td><td>ACTION_OCCURRENCE</td></tr>\n",
       "<tr><td style=\"text-align: right;\"> 2</td><td style=\"text-align: right;\">                   5</td><td style=\"text-align: right;\">         3</td><td>Counter({('kill', 'v'): 2, ('death', 'n'): 2, ('killing', 'reste'): 1})                                                                                                                                                                                                                                                              </td><td>{Synset('death.n.01'), Synset('death.n.06'), Synset('death.n.02'), Synset('death.n.03'), Synset('death.n.05'), Synset('end.n.06'), Synset('death.n.08'), Synset('death.n.04')}                                                                                                                                                      </td><td>ACT18223428901970912</td><td>t45_death_of_flynn    </td><td>ACTION_OCCURRENCE</td></tr>\n",
       "<tr><td style=\"text-align: right;\"> 3</td><td style=\"text-align: right;\">                  11</td><td style=\"text-align: right;\">         5</td><td>Counter({('murder', 'n'): 5, ('slaying', 'n'): 3, ('killing', 'n'): 1, ('murder', 'v'): 1, ('kill', 'v'): 1})                                                                                                                                                                                                                        </td><td>{Synset('murder.n.01')}                                                                                                                                                                                                                                                                                                             </td><td>ACT18239862350395745</td><td>t22b_murder           </td><td>ACTION_OCCURRENCE</td></tr>\n",
       "<tr><td style=\"text-align: right;\"> 4</td><td style=\"text-align: right;\">                  16</td><td style=\"text-align: right;\">         7</td><td>Counter({('kill', 'v'): 7, ('death', 'n'): 4, ('takeing away', 'n'): 1, ('shoot', 'v'): 1, ('die', 'v'): 1, ('hit', 'v'): 1, ('shooting', 'n'): 1})                                                                                                                                                                                  </td><td>{Synset('death.n.01'), Synset('death.n.06'), Synset('shooting.n.02'), Synset('death.n.03'), Synset('death.n.02'), Synset('death.n.05'), Synset('end.n.06'), Synset('death.n.08'), Synset('shooting.n.01'), Synset('death.n.04')}                                                                                                    </td><td>ACT17586104998270489</td><td>t33b_shooting_death   </td><td>ACTION_OCCURRENCE</td></tr>\n",
       "<tr><td style=\"text-align: right;\"> 5</td><td style=\"text-align: right;\">                   8</td><td style=\"text-align: right;\">         3</td><td>Counter({('death', 'n'): 5, ('kill', 'v'): 2, ('die', 'v'): 1})                                                                                                                                                                                                                                                                      </td><td>{Synset('death.n.01'), Synset('death.n.06'), Synset('death.n.02'), Synset('death.n.03'), Synset('death.n.05'), Synset('end.n.06'), Synset('death.n.08'), Synset('death.n.04')}                                                                                                                                                      </td><td>ACT18271402131749350</td><td>t23_both_deaths       </td><td>ACTION_OCCURRENCE</td></tr>\n",
       "<tr><td style=\"text-align: right;\"> 6</td><td style=\"text-align: right;\">                   9</td><td style=\"text-align: right;\">         1</td><td>Counter({('kill', 'v'): 9})                                                                                                                                                                                                                                                                                                          </td><td>{Synset('kill.v.07'), Synset('kill.v.10'), Synset('kill.v.04'), Synset('kill.v.05'), Synset('kill.v.08'), Synset('kill.v.02'), Synset('kill.v.06'), Synset('stamp_out.v.01'), Synset('kill.v.01'), Synset('kill.v.13'), Synset('kill.v.14'), Synset('kill.v.09'), Synset('toss_off.v.02'), Synset('kill.v.15'), Synset('kill.v.12')}</td><td>ACT17206723524309312</td><td>t8b_killing           </td><td>ACTION_OCCURRENCE</td></tr>\n",
       "<tr><td style=\"text-align: right;\"> 7</td><td style=\"text-align: right;\">                  20</td><td style=\"text-align: right;\">         6</td><td>Counter({('kill', 'v'): 11, ('death', 'n'): 4, ('killed', 'reste'): 2, ('slay', 'v'): 1, ('death', 'reste'): 1, ('killing', 'n'): 1})                                                                                                                                                                                                </td><td>{Synset('murder.v.01')}                                                                                                                                                                                                                                                                                                             </td><td>ACT17734003472118220</td><td>t19_killed            </td><td>ACTION_OCCURRENCE</td></tr>\n",
       "<tr><td style=\"text-align: right;\"> 8</td><td style=\"text-align: right;\">                  10</td><td style=\"text-align: right;\">         3</td><td>Counter({('robbery', 'n'): 7, ('theft', 'n'): 2, ('grab', 'v'): 1})                                                                                                                                                                                                                                                                  </td><td>{Synset('robbery.n.01'), Synset('looting.n.01')}                                                                                                                                                                                                                                                                                    </td><td>ACT18316733646145911</td><td>t24_robberies         </td><td>ACTION_OCCURRENCE</td></tr>\n",
       "<tr><td style=\"text-align: right;\"> 9</td><td style=\"text-align: right;\">                   7</td><td style=\"text-align: right;\">         6</td><td>Counter({('heist', 'n'): 2, ('robbery', 'n'): 1, ('clean out', 'v'): 1, ('theft', 'n'): 1, ('heist', 'reste'): 1, ('raid', 'n'): 1})                                                                                                                                                                                                 </td><td>{Synset('armed_robbery.n.01'), Synset('larceny.n.01'), Synset('heist.n.01')}                                                                                                                                                                                                                                                        </td><td>ACT18319049821521663</td><td>t24b_robbery          </td><td>ACTION_OCCURRENCE</td></tr>\n",
       "<tr><td style=\"text-align: right;\">10</td><td style=\"text-align: right;\">                   8</td><td style=\"text-align: right;\">         1</td><td>Counter({('kill', 'v'): 8})                                                                                                                                                                                                                                                                                                          </td><td>{Synset('kill.v.07'), Synset('kill.v.10'), Synset('kill.v.04'), Synset('kill.v.05'), Synset('kill.v.08'), Synset('kill.v.02'), Synset('kill.v.06'), Synset('stamp_out.v.01'), Synset('kill.v.01'), Synset('kill.v.13'), Synset('kill.v.14'), Synset('kill.v.09'), Synset('toss_off.v.02'), Synset('kill.v.15'), Synset('kill.v.12')}</td><td>ACT17645460572486146</td><td>t37b_1_person_killed  </td><td>ACTION_OCCURRENCE</td></tr>\n",
       "<tr><td style=\"text-align: right;\">11</td><td style=\"text-align: right;\">                  32</td><td style=\"text-align: right;\">         8</td><td>Counter({('death', 'n'): 9, ('shoot death', 'v'): 5, ('shoot dead', 'v'): 5, ('shoot', 'v'): 5, ('fatally shoot', 'reste'): 4, ('shooting death', 'reste'): 2, ('kill', 'v'): 1, ('murder', 'n'): 1})                                                                                                                                </td><td>{Synset('death.n.01'), Synset('death.n.06'), Synset('death.n.02'), Synset('death.n.03'), Synset('death.n.05'), Synset('end.n.06'), Synset('death.n.08'), Synset('death.n.04')}                                                                                                                                                      </td><td>ACT18223179370767574</td><td>t45_shooting_death    </td><td>ACTION_OCCURRENCE</td></tr>\n",
       "<tr><td style=\"text-align: right;\">12</td><td style=\"text-align: right;\">                  11</td><td style=\"text-align: right;\">         3</td><td>Counter({('kill', 'v'): 9, ('die', 'v'): 1, ('death', 'n'): 1})                                                                                                                                                                                                                                                                      </td><td>{Synset('kill.v.07'), Synset('kill.v.10'), Synset('kill.v.04'), Synset('kill.v.05'), Synset('kill.v.08'), Synset('kill.v.02'), Synset('kill.v.06'), Synset('stamp_out.v.01'), Synset('kill.v.13'), Synset('kill.v.01'), Synset('kill.v.14'), Synset('kill.v.09'), Synset('toss_off.v.02'), Synset('kill.v.15'), Synset('kill.v.12')}</td><td>ACT18234615357625221</td><td>t21b_killed           </td><td>ACTION_OCCURRENCE</td></tr>\n",
       "<tr><td style=\"text-align: right;\">13</td><td style=\"text-align: right;\">                   2</td><td style=\"text-align: right;\">         1</td><td>Counter({('kill', 'v'): 2})                                                                                                                                                                                                                                                                                                          </td><td>{Synset('kill.v.07'), Synset('kill.v.10'), Synset('kill.v.04'), Synset('kill.v.05'), Synset('kill.v.08'), Synset('kill.v.02'), Synset('kill.v.06'), Synset('stamp_out.v.01'), Synset('kill.v.01'), Synset('kill.v.13'), Synset('kill.v.14'), Synset('kill.v.09'), Synset('toss_off.v.02'), Synset('kill.v.15'), Synset('kill.v.12')}</td><td>ACT27405482739518533</td><td>t37b_five_killed      </td><td>ACTION_OCCURRENCE</td></tr>\n",
       "<tr><td style=\"text-align: right;\">14</td><td style=\"text-align: right;\">                  21</td><td style=\"text-align: right;\">         8</td><td>Counter({('kill', 'v'): 11, ('gun down', 'v'): 2, ('kills', 'reste'): 2, ('execute', 'v'): 2, ('death', 'n'): 1, ('dead', 'n'): 1, ('dead', 'reste'): 1, ('murder', 'n'): 1})                                                                                                                                                        </td><td>{Synset('murder.n.01')}                                                                                                                                                                                                                                                                                                             </td><td>ACT18235797518957764</td><td>t22_killing           </td><td>ACTION_OCCURRENCE</td></tr>\n",
       "<tr><td style=\"text-align: right;\">15</td><td style=\"text-align: right;\">                  35</td><td style=\"text-align: right;\">         6</td><td>Counter({('murder', 'n'): 15, ('double murder', 'reste'): 6, ('kill', 'v'): 6, ('dead', 'reste'): 4, ('murder', 'v'): 3, ('double - murder', 'reste'): 1})                                                                                                                                                                           </td><td>{Synset('murder.n.01')}                                                                                                                                                                                                                                                                                                             </td><td>ACT17239767913146830</td><td>t32_double_murder     </td><td>ACTION_OCCURRENCE</td></tr>\n",
       "<tr><td style=\"text-align: right;\">16</td><td style=\"text-align: right;\">                  32</td><td style=\"text-align: right;\">        12</td><td>Counter({('kill', 'v'): 10, ('murder', 'n'): 6, ('die', 'v'): 3, ('death', 'n'): 2, ('claim the life', 'v'): 2, ('murder', 'v'): 2, ('strike', 'v'): 2, ('slay', 'n'): 1, ('shoot', 'v'): 1, ('murder', 'reste'): 1, ('fatal shooting', 'reste'): 1, ('slay', 'v'): 1})                                                              </td><td>{Synset('murder.n.01')}                                                                                                                                                                                                                                                                                                             </td><td>ACT17585266691851703</td><td>t33_killing_mother    </td><td>ACTION_OCCURRENCE</td></tr>\n",
       "<tr><td style=\"text-align: right;\">17</td><td style=\"text-align: right;\">                  17</td><td style=\"text-align: right;\">         4</td><td>Counter({('die', 'v'): 11, ('death', 'n'): 3, ('dead', 'reste'): 2, ('kill', 'v'): 1})                                                                                                                                                                                                                                               </td><td>{Synset('die.v.05'), Synset('die.v.10'), Synset('die.v.11'), Synset('die.v.06'), Synset('die.v.08'), Synset('die.v.07'), Synset('die.v.09'), Synset('fail.v.04'), Synset('die.v.03'), Synset('die.v.02'), Synset('die.v.01')}                                                                                                       </td><td>ACT18241866471384329</td><td>t23_death_australian  </td><td>ACTION_OCCURRENCE</td></tr>\n",
       "<tr><td style=\"text-align: right;\">18</td><td style=\"text-align: right;\">                  27</td><td style=\"text-align: right;\">         9</td><td>Counter({('kill', 'v'): 10, ('die', 'v'): 7, ('dead', 'reste'): 3, ('death', 'n'): 2, ('leave dead', 'v'): 1, ('died', 'reste'): 1, ('deaths', 'reste'): 1, ('\"murder\"', 'reste'): 1, ('die', 'n'): 1})                                                                                                                              </td><td>{Synset('kill.v.07'), Synset('kill.v.10'), Synset('kill.v.04'), Synset('kill.v.05'), Synset('kill.v.08'), Synset('kill.v.02'), Synset('kill.v.06'), Synset('stamp_out.v.01'), Synset('kill.v.13'), Synset('kill.v.01'), Synset('kill.v.14'), Synset('kill.v.09'), Synset('toss_off.v.02'), Synset('kill.v.15'), Synset('kill.v.12')}</td><td>ACT16958316047989933</td><td>t8_bank_workers_died  </td><td>ACTION_OCCURRENCE</td></tr>\n",
       "<tr><td style=\"text-align: right;\">19</td><td style=\"text-align: right;\">                  11</td><td style=\"text-align: right;\">         7</td><td>Counter({('stab to death', 'v'): 4, ('kill', 'v'): 2, ('murder', 'v'): 1, ('fatal stabbing', 'reste'): 1, ('bloodbath', 'n'): 1, ('death', 'n'): 1, ('slaying', 'n'): 1})                                                                                                                                                            </td><td>{Synset('bloodbath.n.01'), Synset('murder.n.01')}                                                                                                                                                                                                                                                                                   </td><td>ACT17580680756222856</td><td>t32b_two_counts_murder</td><td>ACTION_OCCURRENCE</td></tr>\n",
       "<tr><td style=\"text-align: right;\">20</td><td style=\"text-align: right;\">                   3</td><td style=\"text-align: right;\">         1</td><td>Counter({('kill', 'v'): 3})                                                                                                                                                                                                                                                                                                          </td><td>{Synset('kill.v.07'), Synset('kill.v.10'), Synset('kill.v.04'), Synset('kill.v.05'), Synset('kill.v.08'), Synset('kill.v.02'), Synset('kill.v.06'), Synset('stamp_out.v.01'), Synset('kill.v.01'), Synset('kill.v.13'), Synset('kill.v.14'), Synset('kill.v.09'), Synset('toss_off.v.02'), Synset('kill.v.15'), Synset('kill.v.12')}</td><td>ACT16364016827612111</td><td>t3b_killed_four_people</td><td>ACTION_OCCURRENCE</td></tr>\n",
       "<tr><td style=\"text-align: right;\">21</td><td style=\"text-align: right;\">                  27</td><td style=\"text-align: right;\">         5</td><td>Counter({('kill', 'v'): 17, ('die', 'v'): 6, ('dead', 'reste'): 2, ('murder', 'n'): 1, ('injure', 'v'): 1})                                                                                                                                                                                                                          </td><td>{Synset('kill.v.07'), Synset('kill.v.10'), Synset('kill.v.04'), Synset('kill.v.05'), Synset('kill.v.08'), Synset('kill.v.02'), Synset('kill.v.06'), Synset('stamp_out.v.01'), Synset('kill.v.13'), Synset('kill.v.01'), Synset('kill.v.14'), Synset('kill.v.09'), Synset('toss_off.v.02'), Synset('kill.v.15'), Synset('kill.v.12')}</td><td>ACT18006431002286049</td><td>t21_killed            </td><td>ACTION_OCCURRENCE</td></tr>\n",
       "<tr><td style=\"text-align: right;\">22</td><td style=\"text-align: right;\">                   6</td><td style=\"text-align: right;\">         3</td><td>Counter({('kill', 'v'): 3, ('dead', 'reste'): 2, ('killing', 'reste'): 1})                                                                                                                                                                                                                                                           </td><td>{Synset('kill.v.07'), Synset('kill.v.10'), Synset('kill.v.04'), Synset('kill.v.05'), Synset('kill.v.08'), Synset('kill.v.02'), Synset('kill.v.06'), Synset('stamp_out.v.01'), Synset('kill.v.01'), Synset('kill.v.13'), Synset('kill.v.14'), Synset('kill.v.09'), Synset('toss_off.v.02'), Synset('kill.v.15'), Synset('kill.v.12')}</td><td>ACT17731356065373434</td><td>t37_girl_killed       </td><td>ACTION_OCCURRENCE</td></tr>\n",
       "<tr><td style=\"text-align: right;\">23</td><td style=\"text-align: right;\">                   6</td><td style=\"text-align: right;\">         3</td><td>Counter({('death', 'n'): 4, ('kill', 'v'): 1, ('murder', 'n'): 1})                                                                                                                                                                                                                                                                   </td><td>{Synset('murder.n.01')}                                                                                                                                                                                                                                                                                                             </td><td>ACT18244338338545308</td><td>t45b_death_laci       </td><td>ACTION_OCCURRENCE</td></tr>\n",
       "<tr><td style=\"text-align: right;\">24</td><td style=\"text-align: right;\">                  17</td><td style=\"text-align: right;\">         5</td><td>Counter({('kill', 'v'): 11, ('death', 'n'): 3, (\"die'\", 'n'): 1, ('dead', 'reste'): 1, ('kills', 'reste'): 1})                                                                                                                                                                                                                       </td><td>{Synset('kill.v.07'), Synset('kill.v.10'), Synset('kill.v.04'), Synset('kill.v.05'), Synset('kill.v.08'), Synset('kill.v.02'), Synset('kill.v.06'), Synset('stamp_out.v.01'), Synset('kill.v.13'), Synset('kill.v.01'), Synset('kill.v.14'), Synset('kill.v.09'), Synset('toss_off.v.02'), Synset('kill.v.15'), Synset('kill.v.12')}</td><td>ACT17821802167919676</td><td>t20_killed            </td><td>ACTION_OCCURRENCE</td></tr>\n",
       "<tr><td style=\"text-align: right;\">25</td><td style=\"text-align: right;\">                   9</td><td style=\"text-align: right;\">         4</td><td>Counter({('kill', 'v'): 6, ('leave dead', 'v'): 1, ('die', 'v'): 1, ('claim life', 'v'): 1})                                                                                                                                                                                                                                         </td><td>{Synset('kill.v.07'), Synset('kill.v.10'), Synset('kill.v.04'), Synset('kill.v.05'), Synset('kill.v.08'), Synset('kill.v.02'), Synset('kill.v.06'), Synset('stamp_out.v.01'), Synset('kill.v.13'), Synset('kill.v.01'), Synset('kill.v.14'), Synset('kill.v.09'), Synset('toss_off.v.02'), Synset('kill.v.15'), Synset('kill.v.12')}</td><td>ACT17765469814751163</td><td>t41b_40_killed        </td><td>ACTION_OCCURRENCE</td></tr>\n",
       "<tr><td style=\"text-align: right;\">26</td><td style=\"text-align: right;\">                   7</td><td style=\"text-align: right;\">         2</td><td>Counter({('kill', 'v'): 4, ('dead', 'reste'): 3})                                                                                                                                                                                                                                                                                    </td><td>{Synset('kill.v.07'), Synset('kill.v.10'), Synset('kill.v.04'), Synset('kill.v.05'), Synset('kill.v.08'), Synset('kill.v.02'), Synset('kill.v.06'), Synset('stamp_out.v.01'), Synset('kill.v.01'), Synset('kill.v.13'), Synset('kill.v.14'), Synset('kill.v.09'), Synset('toss_off.v.02'), Synset('kill.v.15'), Synset('kill.v.12')}</td><td>ACT17728573458939282</td><td>t37_killed_people     </td><td>ACTION_OCCURRENCE</td></tr>\n",
       "<tr><td style=\"text-align: right;\">27</td><td style=\"text-align: right;\">                  18</td><td style=\"text-align: right;\">         6</td><td>Counter({('kill', 'v'): 10, ('dead', 'reste'): 3, ('murder', 'n'): 2, ('die', 'v'): 1, ('dead', 'n'): 1, ('death', 'n'): 1})                                                                                                                                                                                                         </td><td>{Synset('murder.n.01')}                                                                                                                                                                                                                                                                                                             </td><td>ACT17634346596006097</td><td>t18_killing           </td><td>ACTION_OCCURRENCE</td></tr>\n",
       "<tr><td style=\"text-align: right;\">28</td><td style=\"text-align: right;\">                  20</td><td style=\"text-align: right;\">        14</td><td>Counter({('shooting', 'n'): 5, ('shooting', 'reste'): 2, ('crossfire', 'n'): 2, ('fatal shoot', 'reste'): 1, ('shootout', 'n'): 1, ('shoot', 'v'): 1, ('gunfire', 'n'): 1, ('attack', 'n'): 1, ('which', 'reste'): 1, ('fire', 'v'): 1, ('indiscriminately', 'reste'): 1, ('murder', 'n'): 1, ('kill', 'v'): 1, ('gunplay', 'n'): 1})</td><td>{Synset('shooting.n.02'), Synset('shooting.n.01')}                                                                                                                                                                                                                                                                                  </td><td>ACT17585255017659433</td><td>t33_shooting          </td><td>ACTION_OCCURRENCE</td></tr>\n",
       "<tr><td style=\"text-align: right;\">29</td><td style=\"text-align: right;\">                  20</td><td style=\"text-align: right;\">         6</td><td>Counter({('death', 'n'): 9, ('die', 'v'): 6, ('kill', 'v'): 2, ('it', 'reste'): 1, ('fall', 'v'): 1, ('die', 'n'): 1})                                                                                                                                                                                                               </td><td>{Synset('death.n.01'), Synset('death.n.06'), Synset('death.n.02'), Synset('death.n.03'), Synset('death.n.05'), Synset('end.n.06'), Synset('death.n.08'), Synset('death.n.04')}                                                                                                                                                      </td><td>ACT18241002218927644</td><td>t23_death_british_man </td><td>ACTION_OCCURRENCE</td></tr>\n",
       "<tr><td style=\"text-align: right;\">30</td><td style=\"text-align: right;\">                   8</td><td style=\"text-align: right;\">         4</td><td>Counter({('murder', 'n'): 3, ('second-degree murder', 'reste'): 3, ('kill', 'v'): 1, ('crime', 'n'): 1})                                                                                                                                                                                                                             </td><td>{Synset('murder.n.01')}                                                                                                                                                                                                                                                                                                             </td><td>ACT18223733653876036</td><td>t45b_2_counts_murder  </td><td>ACTION_OCCURRENCE</td></tr>\n",
       "<tr><td style=\"text-align: right;\">31</td><td style=\"text-align: right;\">                  21</td><td style=\"text-align: right;\">         5</td><td>Counter({('heist', 'n'): 14, ('robbery', 'n'): 3, ('raid', 'reste'): 2, ('heist', 'reste'): 1, ('raid', 'n'): 1})                                                                                                                                                                                                                    </td><td>{Synset('armed_robbery.n.01'), Synset('heist.n.01')}                                                                                                                                                                                                                                                                                </td><td>ACT18316597331822467</td><td>t24_heist             </td><td>ACTION_OCCURRENCE</td></tr>\n",
       "<tr><td style=\"text-align: right;\">32</td><td style=\"text-align: right;\">                   8</td><td style=\"text-align: right;\">         3</td><td>Counter({('first-degree murder', 'reste'): 5, ('kill', 'v'): 2, ('murder', 'v'): 1})                                                                                                                                                                                                                                                 </td><td>{Synset('murder.v.01'), Synset('mangle.v.03')}                                                                                                                                                                                                                                                                                      </td><td>ACT18223709323918663</td><td>t45b_1st_deg_murder   </td><td>ACTION_OCCURRENCE</td></tr>\n",
       "<tr><td style=\"text-align: right;\">33</td><td style=\"text-align: right;\">                  14</td><td style=\"text-align: right;\">         4</td><td>Counter({('kill', 'v'): 9, ('dead', 'reste'): 2, ('death', 'n'): 2, ('killing', 'n'): 1})                                                                                                                                                                                                                                            </td><td>{Synset('kill.v.07'), Synset('kill.v.10'), Synset('kill.v.04'), Synset('kill.v.05'), Synset('kill.v.08'), Synset('kill.v.02'), Synset('kill.v.06'), Synset('stamp_out.v.01'), Synset('kill.v.13'), Synset('kill.v.01'), Synset('kill.v.14'), Synset('kill.v.09'), Synset('toss_off.v.02'), Synset('kill.v.15'), Synset('kill.v.12')}</td><td>ACT17731468512044233</td><td>t18b_killing          </td><td>ACTION_OCCURRENCE</td></tr>\n",
       "</table>"
      ],
      "text/plain": [
       "<IPython.core.display.HTML object>"
      ]
     },
     "metadata": {},
     "output_type": "display_data"
    }
   ],
   "source": [
    "headers = ['num_event_mentions', 'variance', \n",
    "           'distr_event_mentions', 'possible_wn_synsets', \n",
    "           'instance_id', 'tag_descriptor', 'xml_tag']\n",
    "# change keys to inspect other event instances\n",
    "#keys = {'ACT16463289776296798', 'ACT16958671259762511', 'ACT17585255017659433', 'ACT17477395877825371', 'ACT16701657667816137', 'ACT27400243519478655', 'ACT17634335402702692', 'ACT17479094205244348', 'ACT16702238123414525', 'ACT17731663088586680', 'ACT17474554307413590', 'ACT16708643554061400', 'ACT17623175679638697', 'ACT17819810020957731', 'ACT17478306085573007', 'ACT17473889933267520'}\n",
    "keys_t1 = {'ACT17479136632367144', 'ACT17819728461396359', 'ACT18223428901970912', 'ACT18239862350395745', 'ACT17206723524309312', 'ACT18271402131749350', 'ACT17586104998270489', 'ACT17734003472118220', 'ACT17645460572486146', 'ACT18223179370767574', 'ACT18234615357625221', 'ACT27405482739518533', 'ACT18235797518957764', 'ACT17239767913146830', 'ACT17585266691851703', 'ACT18241866471384329', 'ACT16958316047989933', 'ACT17580680756222856', 'ACT16364016827612111', 'ACT18006431002286049', 'ACT17731356065373434', 'ACT18244338338545308', 'ACT17821802167919676', 'ACT17765469814751163', 'ACT17728573458939282', 'ACT17634346596006097', 'ACT18241002218927644', 'ACT17585255017659433', 'ACT18223733653876036', 'ACT18223709323918663', 'ACT17731468512044233', 'ACT18316733646145911', 'ACT18316597331822467', 'ACT18319049821521663'}\n",
    "keys_t2 = {'ACT16701957229969701', 'ACT15992065546372468', 'ACT16701657667816137', 'ACT27400243519478655', 'ACT16708643554061400', 'ACT17477395877825371', 'ACT17819810020957731', 'ACT17474554307413590', 'ACT17478306085573007', 'ACT16958671259762511', 'ACT17585255017659433', 'ACT17623175679638697', 'ACT17473889933267520', 'ACT17634335402702692', 'ACT17731663088586680', 'ACT17479094205244348', 'ACT16463289776296798', 'ACT16702238123414525'}\n",
    "keys_t3 = {'ACT17644550339744276', 'ACT18004316983375265', 'ACT17740950239373139', 'ACT17644429303158159', 'ACT17741200229701266', 'ACT17741293339495179', 'ACT17733038959406609', 'ACT17821815048905207', 'ACT17821472137518203', 'ACT17643276204095552', 'ACT16701657667816137', 'ACT27400243519478655', 'ACT16708643554061400', 'ACT17477395877825371', 'ACT17819810020957731', 'ACT17474554307413590', 'ACT17478306085573007', 'ACT16958671259762511', 'ACT17585255017659433', 'ACT17623175679638697', 'ACT17473889933267520', 'ACT17634335402702692', 'ACT17731663088586680', 'ACT17479094205244348', 'ACT16463289776296798', 'ACT16702238123414525', 'ACT16958781329449679', 'ACT17403630531063654', 'ACT16958299902537796', 'ACT16958629132224286'}\n",
    "keys_t4 = {'ACT17774320253942795', 'ACT17773055657381125', 'ACT16632487083891659', 'ACT27330899647398167', 'ACT17764340317374314', 'ACT16628380851866429', 'ACT17623263540391653', 'ACT17665599951516121'}\n",
    "# T1: event_instances=34, #triggers=507, #trigger_variance=181, #trigger_variance_unique=?\n",
    "# T2: event_instances=18, #triggers=252, #trigger_variance=95, #trigger_variance_unique=?\n",
    "# T3: event_instances=30, #triggers=450, #trigger_variance=165, #trigger_variance_unique=?\n",
    "# T4: event_instances=8, #triggers=130, #trigger_variance=53, #trigger_variance_unique=?\n",
    "keys=keys_t1\n",
    "main_dict = ev_instances\n",
    "\n",
    "table = inspection.show_me(main_dict, keys, headers)\n",
    "display(HTML(table))"
   ]
  },
  {
   "cell_type": "markdown",
   "metadata": {},
   "source": [
    "# Inspect event mentions of one event instance"
   ]
  },
  {
   "cell_type": "code",
   "execution_count": 7,
   "metadata": {
    "collapsed": false,
    "scrolled": true
   },
   "outputs": [
    {
     "data": {
      "text/html": [
       "<table>\n",
       "<tr><th style=\"text-align: right;\">  </th><th>event_trigger     </th><th>doc_name    </th><th>doc_id              </th><th style=\"text-align: right;\">  m_id</th><th>sentence                                                                                                                                                                                                                                                                  </th></tr>\n",
       "<tr><td style=\"text-align: right;\"> 0</td><td>('take over', 'v')</td><td>12_8ecb.xml </td><td>DOC15654141697861725</td><td style=\"text-align: right;\">    21</td><td>The Indian navy captured 23 piracy suspects who tried to take over a merchant vessel in the Gulf of Aden , between the Horn of Africa and the Arabian Peninsula , Indian officials said .                                                                                 </td></tr>\n",
       "<tr><td style=\"text-align: right;\"> 1</td><td>('attempt', 'n')  </td><td>12_5ecb.xml </td><td>DOC15654142035377642</td><td style=\"text-align: right;\">    29</td><td>Striking yet another blow at the very heart of piracy in the Gulf of Aden , Indian warship INS Mysore and its marine commandos thwarted a hijack attempt on an Ethiopian merchant vessel on Saturday and captured 23 pirates and a large arms cache in the operation .    </td></tr>\n",
       "<tr><td style=\"text-align: right;\"> 2</td><td>('attack', 'v')   </td><td>12_1ecb.xml </td><td>DOC15654141066688604</td><td style=\"text-align: right;\">    17</td><td>The Indian Navy on Saturday prevented pirates from attacking a merchant vessel flying an Ethiopian flag in the Gulf of Aden and took 23 into custody .                                                                                                                    </td></tr>\n",
       "<tr><td style=\"text-align: right;\"> 3</td><td>('storm', 'v')    </td><td>12_9ecb.xml </td><td>DOC15654141832926177</td><td style=\"text-align: right;\">    16</td><td>The Indian navy says it has arrested 23 Somali and Yemeni pirates who tried to storm a ship in the Gulf of Aden .                                                                                                                                                         </td></tr>\n",
       "<tr><td style=\"text-align: right;\"> 4</td><td>('attempt', 'n')  </td><td>12_6ecb.xml </td><td>DOC15654141294124191</td><td style=\"text-align: right;\">    14</td><td>The Indian Navy on Saturday foiled a hijack attempt in the notorious Gulf of Aden and arrested 23 heavily armed Somalian and Yemeni pirates .                                                                                                                             </td></tr>\n",
       "<tr><td style=\"text-align: right;\"> 5</td><td>('attack', 'n')   </td><td>12_12ecb.xml</td><td>DOC15654142557373394</td><td style=\"text-align: right;\">    21</td><td>In another successful anti-piracy operation , Navy warship on Saturday repulsed an attack on a merchant vessel in the Gulf of Aden and nabbed 23 Somali and Yemeni sea brigands , in a show of resolve to weed out the menace that affected maritime trade in the region .</td></tr>\n",
       "<tr><td style=\"text-align: right;\"> 6</td><td>('hijack', 'v')   </td><td>12_19ecb.xml</td><td>DOC15654141218392383</td><td style=\"text-align: right;\">    36</td><td>An Indian warship , INS Mysore deployed in the Gulf of Aden attacked two boats of pirates after receiving signals from a ship that the pirates were trying to hijack .                                                                                                    </td></tr>\n",
       "<tr><td style=\"text-align: right;\"> 7</td><td>('attack', 'v')   </td><td>12_7ecb.xml </td><td>DOC15654141529494733</td><td style=\"text-align: right;\">    15</td><td>The Indian navy said it has captured 23 Somali and Yemeni pirates who attacked a merchant vessel in the Gulf of Aden on Saturday .                                                                                                                                        </td></tr>\n",
       "<tr><td style=\"text-align: right;\"> 8</td><td>('attack', 'n')   </td><td>12_2ecb.xml </td><td>DOC15654141142319863</td><td style=\"text-align: right;\">    19</td><td>Indian naval forces came to the rescue of a merchant vessel under attack by pirates in the Gulf of Aden on Saturday , capturing 23 of the raiders , India said .                                                                                                          </td></tr>\n",
       "<tr><td style=\"text-align: right;\"> 9</td><td>('attack', 'n')   </td><td>12_3ecb.xml </td><td>DOC15654141386447412</td><td style=\"text-align: right;\">    19</td><td>Striking another blow against the pirates infesting the waters off the Horn of Africa , an Indian Navy warship not only repulsed an attack on a merchant vessel in the Gulf of Aden , but nabbed 23 Somali and Yemeni sea brigands .                                      </td></tr>\n",
       "<tr><td style=\"text-align: right;\">10</td><td>('hijack', 'v')   </td><td>12_13ecb.xml</td><td>DOC15654141976338295</td><td style=\"text-align: right;\">    17</td><td>The Indian navy captured 23 pirates in the Gulf of Aden after rescuing a merchant vessel that was being hijacked on Saturday , the Defence Ministry said .                                                                                                                </td></tr>\n",
       "<tr><td style=\"text-align: right;\">11</td><td>('attempt', 'n')  </td><td>12_17ecb.xml</td><td>DOC15654142354935421</td><td style=\"text-align: right;\">    17</td><td>For the fourth time in two months , the Indian Navy on Saturday took the bandits head on foiling a piracy attempt and putting 23 pirates out of business .                                                                                                                </td></tr>\n",
       "</table>"
      ],
      "text/plain": [
       "<IPython.core.display.HTML object>"
      ]
     },
     "metadata": {},
     "output_type": "display_data"
    }
   ],
   "source": [
    "headers = ['event_trigger', \n",
    "           'doc_name', 'doc_id',\n",
    "           'm_id', 'sentence']\n",
    "# change keys to inspect others\n",
    "keys = ['ACT17403630531063654'] # list has to be of length one\n",
    "main_dict = ev_instances\n",
    "table = inspection.show_me(main_dict, keys, headers, event_mention=True)\n",
    "display(HTML(table))"
   ]
  }
 ],
 "metadata": {
  "anaconda-cloud": {},
  "kernelspec": {
   "display_name": "Python [Root]",
   "language": "python",
   "name": "Python [Root]"
  },
  "language_info": {
   "codemirror_mode": {
    "name": "ipython",
    "version": 3
   },
   "file_extension": ".py",
   "mimetype": "text/x-python",
   "name": "python",
   "nbconvert_exporter": "python",
   "pygments_lexer": "ipython3",
   "version": "3.5.2"
  }
 },
 "nbformat": 4,
 "nbformat_minor": 1
}
